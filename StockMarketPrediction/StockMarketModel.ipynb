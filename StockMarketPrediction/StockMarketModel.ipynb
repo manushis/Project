{
 "cells": [
  {
   "cell_type": "code",
   "execution_count": 1,
   "id": "527253e5",
   "metadata": {},
   "outputs": [],
   "source": [
    "import numpy as np\n",
    "import pandas as pd\n",
    "import matplotlib.pyplot as plt\n",
    "import pandas_datareader as data"
   ]
  },
  {
   "cell_type": "code",
   "execution_count": 2,
   "id": "222b3cad",
   "metadata": {},
   "outputs": [],
   "source": [
    "start = '2001-01-01'\n",
    "end = '2022-08-30'\n",
    "stock = data.DataReader('ITC.NS','yahoo',start,end)"
   ]
  },
  {
   "cell_type": "code",
   "execution_count": 3,
   "id": "7760aa56",
   "metadata": {},
   "outputs": [
    {
     "data": {
      "text/html": [
       "<div>\n",
       "<style scoped>\n",
       "    .dataframe tbody tr th:only-of-type {\n",
       "        vertical-align: middle;\n",
       "    }\n",
       "\n",
       "    .dataframe tbody tr th {\n",
       "        vertical-align: top;\n",
       "    }\n",
       "\n",
       "    .dataframe thead th {\n",
       "        text-align: right;\n",
       "    }\n",
       "</style>\n",
       "<table border=\"1\" class=\"dataframe\">\n",
       "  <thead>\n",
       "    <tr style=\"text-align: right;\">\n",
       "      <th></th>\n",
       "      <th>High</th>\n",
       "      <th>Low</th>\n",
       "      <th>Open</th>\n",
       "      <th>Close</th>\n",
       "      <th>Volume</th>\n",
       "      <th>Adj Close</th>\n",
       "    </tr>\n",
       "    <tr>\n",
       "      <th>Date</th>\n",
       "      <th></th>\n",
       "      <th></th>\n",
       "      <th></th>\n",
       "      <th></th>\n",
       "      <th></th>\n",
       "      <th></th>\n",
       "    </tr>\n",
       "  </thead>\n",
       "  <tbody>\n",
       "    <tr>\n",
       "      <th>2001-01-01</th>\n",
       "      <td>20.177776</td>\n",
       "      <td>19.719999</td>\n",
       "      <td>19.977777</td>\n",
       "      <td>19.863333</td>\n",
       "      <td>24715935.0</td>\n",
       "      <td>12.412157</td>\n",
       "    </tr>\n",
       "    <tr>\n",
       "      <th>2001-01-02</th>\n",
       "      <td>20.222221</td>\n",
       "      <td>19.906666</td>\n",
       "      <td>19.906666</td>\n",
       "      <td>20.158888</td>\n",
       "      <td>31447890.0</td>\n",
       "      <td>12.596842</td>\n",
       "    </tr>\n",
       "    <tr>\n",
       "      <th>2001-01-03</th>\n",
       "      <td>21.216665</td>\n",
       "      <td>20.000000</td>\n",
       "      <td>20.088888</td>\n",
       "      <td>20.986666</td>\n",
       "      <td>164613915.0</td>\n",
       "      <td>13.114100</td>\n",
       "    </tr>\n",
       "    <tr>\n",
       "      <th>2001-01-04</th>\n",
       "      <td>21.333332</td>\n",
       "      <td>20.480000</td>\n",
       "      <td>21.100000</td>\n",
       "      <td>20.566666</td>\n",
       "      <td>63363600.0</td>\n",
       "      <td>12.851648</td>\n",
       "    </tr>\n",
       "    <tr>\n",
       "      <th>2001-01-05</th>\n",
       "      <td>20.959999</td>\n",
       "      <td>20.401112</td>\n",
       "      <td>20.511110</td>\n",
       "      <td>20.808887</td>\n",
       "      <td>74853135.0</td>\n",
       "      <td>13.003012</td>\n",
       "    </tr>\n",
       "  </tbody>\n",
       "</table>\n",
       "</div>"
      ],
      "text/plain": [
       "                 High        Low       Open      Close       Volume  Adj Close\n",
       "Date                                                                          \n",
       "2001-01-01  20.177776  19.719999  19.977777  19.863333   24715935.0  12.412157\n",
       "2001-01-02  20.222221  19.906666  19.906666  20.158888   31447890.0  12.596842\n",
       "2001-01-03  21.216665  20.000000  20.088888  20.986666  164613915.0  13.114100\n",
       "2001-01-04  21.333332  20.480000  21.100000  20.566666   63363600.0  12.851648\n",
       "2001-01-05  20.959999  20.401112  20.511110  20.808887   74853135.0  13.003012"
      ]
     },
     "execution_count": 3,
     "metadata": {},
     "output_type": "execute_result"
    }
   ],
   "source": [
    "stock.head()"
   ]
  },
  {
   "cell_type": "code",
   "execution_count": 4,
   "id": "ed750512",
   "metadata": {},
   "outputs": [
    {
     "data": {
      "text/html": [
       "<div>\n",
       "<style scoped>\n",
       "    .dataframe tbody tr th:only-of-type {\n",
       "        vertical-align: middle;\n",
       "    }\n",
       "\n",
       "    .dataframe tbody tr th {\n",
       "        vertical-align: top;\n",
       "    }\n",
       "\n",
       "    .dataframe thead th {\n",
       "        text-align: right;\n",
       "    }\n",
       "</style>\n",
       "<table border=\"1\" class=\"dataframe\">\n",
       "  <thead>\n",
       "    <tr style=\"text-align: right;\">\n",
       "      <th></th>\n",
       "      <th>High</th>\n",
       "      <th>Low</th>\n",
       "      <th>Open</th>\n",
       "      <th>Close</th>\n",
       "      <th>Volume</th>\n",
       "      <th>Adj Close</th>\n",
       "    </tr>\n",
       "    <tr>\n",
       "      <th>Date</th>\n",
       "      <th></th>\n",
       "      <th></th>\n",
       "      <th></th>\n",
       "      <th></th>\n",
       "      <th></th>\n",
       "      <th></th>\n",
       "    </tr>\n",
       "  </thead>\n",
       "  <tbody>\n",
       "    <tr>\n",
       "      <th>2022-07-18</th>\n",
       "      <td>296.299988</td>\n",
       "      <td>293.750000</td>\n",
       "      <td>295.000000</td>\n",
       "      <td>295.299988</td>\n",
       "      <td>11315876.0</td>\n",
       "      <td>295.299988</td>\n",
       "    </tr>\n",
       "    <tr>\n",
       "      <th>2022-07-19</th>\n",
       "      <td>295.600006</td>\n",
       "      <td>292.700012</td>\n",
       "      <td>295.000000</td>\n",
       "      <td>294.600006</td>\n",
       "      <td>9188419.0</td>\n",
       "      <td>294.600006</td>\n",
       "    </tr>\n",
       "    <tr>\n",
       "      <th>2022-07-20</th>\n",
       "      <td>299.500000</td>\n",
       "      <td>293.600006</td>\n",
       "      <td>294.899994</td>\n",
       "      <td>298.200012</td>\n",
       "      <td>15789281.0</td>\n",
       "      <td>298.200012</td>\n",
       "    </tr>\n",
       "    <tr>\n",
       "      <th>2022-07-21</th>\n",
       "      <td>302.200012</td>\n",
       "      <td>298.000000</td>\n",
       "      <td>299.000000</td>\n",
       "      <td>299.549988</td>\n",
       "      <td>16042840.0</td>\n",
       "      <td>299.549988</td>\n",
       "    </tr>\n",
       "    <tr>\n",
       "      <th>2022-07-22</th>\n",
       "      <td>302.500000</td>\n",
       "      <td>298.100006</td>\n",
       "      <td>300.000000</td>\n",
       "      <td>300.549988</td>\n",
       "      <td>9967545.0</td>\n",
       "      <td>300.549988</td>\n",
       "    </tr>\n",
       "  </tbody>\n",
       "</table>\n",
       "</div>"
      ],
      "text/plain": [
       "                  High         Low        Open       Close      Volume  \\\n",
       "Date                                                                     \n",
       "2022-07-18  296.299988  293.750000  295.000000  295.299988  11315876.0   \n",
       "2022-07-19  295.600006  292.700012  295.000000  294.600006   9188419.0   \n",
       "2022-07-20  299.500000  293.600006  294.899994  298.200012  15789281.0   \n",
       "2022-07-21  302.200012  298.000000  299.000000  299.549988  16042840.0   \n",
       "2022-07-22  302.500000  298.100006  300.000000  300.549988   9967545.0   \n",
       "\n",
       "             Adj Close  \n",
       "Date                    \n",
       "2022-07-18  295.299988  \n",
       "2022-07-19  294.600006  \n",
       "2022-07-20  298.200012  \n",
       "2022-07-21  299.549988  \n",
       "2022-07-22  300.549988  "
      ]
     },
     "execution_count": 4,
     "metadata": {},
     "output_type": "execute_result"
    }
   ],
   "source": [
    " stock.tail()"
   ]
  },
  {
   "cell_type": "code",
   "execution_count": 5,
   "id": "fe905af2",
   "metadata": {},
   "outputs": [],
   "source": [
    "stock = stock.reset_index()\n",
    "stock = stock.drop(['Date','Adj Close'],axis =1)"
   ]
  },
  {
   "cell_type": "code",
   "execution_count": 6,
   "id": "0c107514",
   "metadata": {},
   "outputs": [
    {
     "data": {
      "text/html": [
       "<div>\n",
       "<style scoped>\n",
       "    .dataframe tbody tr th:only-of-type {\n",
       "        vertical-align: middle;\n",
       "    }\n",
       "\n",
       "    .dataframe tbody tr th {\n",
       "        vertical-align: top;\n",
       "    }\n",
       "\n",
       "    .dataframe thead th {\n",
       "        text-align: right;\n",
       "    }\n",
       "</style>\n",
       "<table border=\"1\" class=\"dataframe\">\n",
       "  <thead>\n",
       "    <tr style=\"text-align: right;\">\n",
       "      <th></th>\n",
       "      <th>High</th>\n",
       "      <th>Low</th>\n",
       "      <th>Open</th>\n",
       "      <th>Close</th>\n",
       "      <th>Volume</th>\n",
       "    </tr>\n",
       "  </thead>\n",
       "  <tbody>\n",
       "    <tr>\n",
       "      <th>0</th>\n",
       "      <td>20.177776</td>\n",
       "      <td>19.719999</td>\n",
       "      <td>19.977777</td>\n",
       "      <td>19.863333</td>\n",
       "      <td>24715935.0</td>\n",
       "    </tr>\n",
       "    <tr>\n",
       "      <th>1</th>\n",
       "      <td>20.222221</td>\n",
       "      <td>19.906666</td>\n",
       "      <td>19.906666</td>\n",
       "      <td>20.158888</td>\n",
       "      <td>31447890.0</td>\n",
       "    </tr>\n",
       "    <tr>\n",
       "      <th>2</th>\n",
       "      <td>21.216665</td>\n",
       "      <td>20.000000</td>\n",
       "      <td>20.088888</td>\n",
       "      <td>20.986666</td>\n",
       "      <td>164613915.0</td>\n",
       "    </tr>\n",
       "    <tr>\n",
       "      <th>3</th>\n",
       "      <td>21.333332</td>\n",
       "      <td>20.480000</td>\n",
       "      <td>21.100000</td>\n",
       "      <td>20.566666</td>\n",
       "      <td>63363600.0</td>\n",
       "    </tr>\n",
       "    <tr>\n",
       "      <th>4</th>\n",
       "      <td>20.959999</td>\n",
       "      <td>20.401112</td>\n",
       "      <td>20.511110</td>\n",
       "      <td>20.808887</td>\n",
       "      <td>74853135.0</td>\n",
       "    </tr>\n",
       "  </tbody>\n",
       "</table>\n",
       "</div>"
      ],
      "text/plain": [
       "        High        Low       Open      Close       Volume\n",
       "0  20.177776  19.719999  19.977777  19.863333   24715935.0\n",
       "1  20.222221  19.906666  19.906666  20.158888   31447890.0\n",
       "2  21.216665  20.000000  20.088888  20.986666  164613915.0\n",
       "3  21.333332  20.480000  21.100000  20.566666   63363600.0\n",
       "4  20.959999  20.401112  20.511110  20.808887   74853135.0"
      ]
     },
     "execution_count": 6,
     "metadata": {},
     "output_type": "execute_result"
    }
   ],
   "source": [
    "stock.head()"
   ]
  },
  {
   "cell_type": "code",
   "execution_count": 7,
   "id": "0e7556f8",
   "metadata": {},
   "outputs": [
    {
     "data": {
      "text/plain": [
       "[<matplotlib.lines.Line2D at 0x2b968623df0>]"
      ]
     },
     "execution_count": 7,
     "metadata": {},
     "output_type": "execute_result"
    },
    {
     "data": {
      "image/png": "[encoded data removed]",
      "text/plain": [
       "<Figure size 432x288 with 1 Axes>"
      ]
     },
     "metadata": {
      "needs_background": "light"
     },
     "output_type": "display_data"
    }
   ],
   "source": [
    " plt.plot(stock.Open)"
   ]
  },
  {
   "cell_type": "code",
   "execution_count": 8,
   "id": "9dcf363e",
   "metadata": {},
   "outputs": [
    {
     "data": {
      "text/plain": [
       "0              NaN\n",
       "1              NaN\n",
       "2              NaN\n",
       "3              NaN\n",
       "4              NaN\n",
       "           ...    \n",
       "5370    259.750500\n",
       "5371    260.550500\n",
       "5372    261.331499\n",
       "5373    262.221499\n",
       "5374    263.106499\n",
       "Name: Open, Length: 5375, dtype: float64"
      ]
     },
     "execution_count": 8,
     "metadata": {},
     "output_type": "execute_result"
    }
   ],
   "source": [
    "MA100 = stock.Open.rolling(100).mean()\n",
    "MA100"
   ]
  },
  {
   "cell_type": "code",
   "execution_count": 9,
   "id": "ae40070c",
   "metadata": {},
   "outputs": [
    {
     "data": {
      "text/plain": [
       "[<matplotlib.lines.Line2D at 0x2b968545c40>]"
      ]
     },
     "execution_count": 9,
     "metadata": {},
     "output_type": "execute_result"
    },
    {
     "data": {
      "image/png": "[encoded data removed]",
      "text/plain": [
       "<Figure size 720x360 with 1 Axes>"
      ]
     },
     "metadata": {
      "needs_background": "light"
     },
     "output_type": "display_data"
    }
   ],
   "source": [
    "plt.figure(figsize = (10,5))\n",
    "plt.plot(stock.Open)\n",
    "plt.plot(MA100,'y')"
   ]
  },
  {
   "cell_type": "code",
   "execution_count": 10,
   "id": "41f12f06",
   "metadata": {
    "scrolled": true
   },
   "outputs": [
    {
     "data": {
      "text/plain": [
       "[<matplotlib.lines.Line2D at 0x2b969d40280>]"
      ]
     },
     "execution_count": 10,
     "metadata": {},
     "output_type": "execute_result"
    },
    {
     "data": {
      "image/png": "[encoded data removed]",
      "text/plain": [
       "<Figure size 720x360 with 1 Axes>"
      ]
     },
     "metadata": {
      "needs_background": "light"
     },
     "output_type": "display_data"
    }
   ],
   "source": [
    "MA200 = stock.Open.rolling(200).mean()\n",
    "plt.figure(figsize = (10,5))\n",
    "plt.plot(stock.Open)\n",
    "plt.plot(MA100,'y')\n",
    "plt.plot(MA200,'r')"
   ]
  },
  {
   "cell_type": "code",
   "execution_count": 11,
   "id": "563a897d",
   "metadata": {},
   "outputs": [
    {
     "data": {
      "text/html": [
       "<div>\n",
       "<style scoped>\n",
       "    .dataframe tbody tr th:only-of-type {\n",
       "        vertical-align: middle;\n",
       "    }\n",
       "\n",
       "    .dataframe tbody tr th {\n",
       "        vertical-align: top;\n",
       "    }\n",
       "\n",
       "    .dataframe thead th {\n",
       "        text-align: right;\n",
       "    }\n",
       "</style>\n",
       "<table border=\"1\" class=\"dataframe\">\n",
       "  <thead>\n",
       "    <tr style=\"text-align: right;\">\n",
       "      <th></th>\n",
       "      <th>Open</th>\n",
       "      <th>Close</th>\n",
       "    </tr>\n",
       "  </thead>\n",
       "  <tbody>\n",
       "    <tr>\n",
       "      <th>0</th>\n",
       "      <td>19.977777</td>\n",
       "      <td>19.863333</td>\n",
       "    </tr>\n",
       "    <tr>\n",
       "      <th>1</th>\n",
       "      <td>19.906666</td>\n",
       "      <td>20.158888</td>\n",
       "    </tr>\n",
       "    <tr>\n",
       "      <th>2</th>\n",
       "      <td>20.088888</td>\n",
       "      <td>20.986666</td>\n",
       "    </tr>\n",
       "    <tr>\n",
       "      <th>3</th>\n",
       "      <td>21.100000</td>\n",
       "      <td>20.566666</td>\n",
       "    </tr>\n",
       "    <tr>\n",
       "      <th>4</th>\n",
       "      <td>20.511110</td>\n",
       "      <td>20.808887</td>\n",
       "    </tr>\n",
       "  </tbody>\n",
       "</table>\n",
       "</div>"
      ],
      "text/plain": [
       "        Open      Close\n",
       "0  19.977777  19.863333\n",
       "1  19.906666  20.158888\n",
       "2  20.088888  20.986666\n",
       "3  21.100000  20.566666\n",
       "4  20.511110  20.808887"
      ]
     },
     "execution_count": 11,
     "metadata": {},
     "output_type": "execute_result"
    }
   ],
   "source": [
    "stock_data = stock.drop([\"High\",\"Low\",\"Volume\"] , axis=1,inplace =False)\n",
    "stock_data.head()"
   ]
  },
  {
   "cell_type": "code",
   "execution_count": 12,
   "id": "381b6c8d",
   "metadata": {},
   "outputs": [],
   "source": [
    "from sklearn.model_selection import train_test_split\n",
    "stock_training,stock_testing = train_test_split(stock_data,test_size =0.20)"
   ]
  },
  {
   "cell_type": "code",
   "execution_count": 13,
   "id": "6588e3c3",
   "metadata": {},
   "outputs": [
    {
     "name": "stdout",
     "output_type": "stream",
     "text": [
      "4300\n",
      "1075\n"
     ]
    }
   ],
   "source": [
    "print(len(stock_training))\n",
    "print(len(stock_testing))"
   ]
  },
  {
   "cell_type": "code",
   "execution_count": 14,
   "id": "5d78e635",
   "metadata": {},
   "outputs": [],
   "source": [
    "from sklearn.preprocessing import MinMaxScaler\n",
    "scaler = MinMaxScaler(feature_range=(0,1))"
   ]
  },
  {
   "cell_type": "code",
   "execution_count": 15,
   "id": "089bb3de",
   "metadata": {},
   "outputs": [
    {
     "data": {
      "text/plain": [
       "(4300, 2)"
      ]
     },
     "execution_count": 15,
     "metadata": {},
     "output_type": "execute_result"
    }
   ],
   "source": [
    "training_array = scaler.fit_transform(stock_training)\n",
    "training_array.shape"
   ]
  },
  {
   "cell_type": "code",
   "execution_count": 16,
   "id": "1444afd1",
   "metadata": {},
   "outputs": [],
   "source": [
    "x_train = []\n",
    "y_train = []\n",
    "\n",
    "for i in range(100, training_array.shape[0]):\n",
    "               x_train.append(training_array[i-100:i])\n",
    "               y_train.append(training_array[i,0])\n",
    "               \n",
    "x_train , y_train = np.array(x_train),np.array(y_train)               "
   ]
  },
  {
   "cell_type": "code",
   "execution_count": 17,
   "id": "22f142bb",
   "metadata": {},
   "outputs": [
    {
     "data": {
      "text/plain": [
       "(4200,)"
      ]
     },
     "execution_count": 17,
     "metadata": {},
     "output_type": "execute_result"
    }
   ],
   "source": [
    "y_train.shape"
   ]
  },
  {
   "cell_type": "code",
   "execution_count": 18,
   "id": "164293c6",
   "metadata": {},
   "outputs": [],
   "source": [
    "from keras.layers import Dense, Dropout ,LSTM\n",
    "from keras.models import Sequential"
   ]
  },
  {
   "cell_type": "code",
   "execution_count": 19,
   "id": "78ac4ea8",
   "metadata": {},
   "outputs": [],
   "source": [
    "model = Sequential()\n",
    "\n",
    "model.add(LSTM(units = 50 , activation = 'relu' , return_sequences = True , input_shape = (x_train.shape[1],2)))\n",
    "model.add(Dropout(0.2))\n",
    "\n",
    "model.add(LSTM(units = 100 , activation = 'relu' , return_sequences = True))\n",
    "model.add(Dropout(0.3))\n",
    "\n",
    "model.add(LSTM(units = 150 , activation = 'relu' , return_sequences = True))\n",
    "model.add(Dropout(0.4))\n",
    "\n",
    "model.add(LSTM(units = 200 , activation = 'relu' , return_sequences = True))\n",
    "model.add(Dropout(0.5))\n",
    "\n",
    "model.add(LSTM(units = 250 , activation = 'relu' , return_sequences = True))\n",
    "model.add(Dropout(0.6))\n",
    "\n",
    "model.add(LSTM(units = 300 , activation = 'relu' , return_sequences = True))\n",
    "model.add(Dropout(0.7))\n",
    "\n",
    "model.add(LSTM(units = 350 , activation = 'relu' , return_sequences = True ))\n",
    "model.add(Dropout(0.8))\n",
    "\n",
    "model.add(LSTM(units = 400 , activation = 'relu' , return_sequences = True ))\n",
    "model.add(Dropout(0.9))\n",
    "\n",
    "model.add(LSTM(units = 450 , activation = 'relu' ))\n",
    "model.add(Dropout(0.95))\n",
    "\n",
    "\n",
    "model.add(Dense(units=1))"
   ]
  },
  {
   "cell_type": "code",
   "execution_count": 20,
   "id": "e73296bf",
   "metadata": {},
   "outputs": [
    {
     "name": "stdout",
     "output_type": "stream",
     "text": [
      "Model: \"sequential\"\n",
      "_________________________________________________________________\n",
      " Layer (type)                Output Shape              Param #   \n",
      "=================================================================\n",
      " lstm (LSTM)                 (None, 100, 50)           10600     \n",
      "                                                                 \n",
      " dropout (Dropout)           (None, 100, 50)           0         \n",
      "                                                                 \n",
      " lstm_1 (LSTM)               (None, 100, 100)          60400     \n",
      "                                                                 \n",
      " dropout_1 (Dropout)         (None, 100, 100)          0         \n",
      "                                                                 \n",
      " lstm_2 (LSTM)               (None, 100, 150)          150600    \n",
      "                                                                 \n",
      " dropout_2 (Dropout)         (None, 100, 150)          0         \n",
      "                                                                 \n",
      " lstm_3 (LSTM)               (None, 100, 200)          280800    \n",
      "                                                                 \n",
      " dropout_3 (Dropout)         (None, 100, 200)          0         \n",
      "                                                                 \n",
      " lstm_4 (LSTM)               (None, 100, 250)          451000    \n",
      "                                                                 \n",
      " dropout_4 (Dropout)         (None, 100, 250)          0         \n",
      "                                                                 \n",
      " lstm_5 (LSTM)               (None, 100, 300)          661200    \n",
      "                                                                 \n",
      " dropout_5 (Dropout)         (None, 100, 300)          0         \n",
      "                                                                 \n",
      " lstm_6 (LSTM)               (None, 100, 350)          911400    \n",
      "                                                                 \n",
      " dropout_6 (Dropout)         (None, 100, 350)          0         \n",
      "                                                                 \n",
      " lstm_7 (LSTM)               (None, 100, 400)          1201600   \n",
      "                                                                 \n",
      " dropout_7 (Dropout)         (None, 100, 400)          0         \n",
      "                                                                 \n",
      " lstm_8 (LSTM)               (None, 450)               1531800   \n",
      "                                                                 \n",
      " dropout_8 (Dropout)         (None, 450)               0         \n",
      "                                                                 \n",
      " dense (Dense)               (None, 1)                 451       \n",
      "                                                                 \n",
      "=================================================================\n",
      "Total params: 5,259,851\n",
      "Trainable params: 5,259,851\n",
      "Non-trainable params: 0\n",
      "_________________________________________________________________\n"
     ]
    }
   ],
   "source": [
    "model.summary()"
   ]
  },
  {
   "cell_type": "code",
   "execution_count": 21,
   "id": "7aa58a5a",
   "metadata": {},
   "outputs": [
    {
     "name": "stdout",
     "output_type": "stream",
     "text": [
      "132/132 [==============================] - 929s 7s/step - loss: 0.1097\n"
     ]
    },
    {
     "data": {
      "text/plain": [
       "<keras.callbacks.History at 0x2b97a7ec160>"
      ]
     },
     "execution_count": 21,
     "metadata": {},
     "output_type": "execute_result"
    }
   ],
   "source": [
    "model.compile(optimizer = 'adam',loss = 'mean_squared_error')\n",
    "model.fit(x_train, y_train , epochs = 1)"
   ]
  },
  {
   "cell_type": "code",
   "execution_count": 22,
   "id": "ad757765",
   "metadata": {},
   "outputs": [],
   "source": [
    "model.save('double.h5')"
   ]
  },
  {
   "cell_type": "code",
   "execution_count": 23,
   "id": "0aa8f34d",
   "metadata": {},
   "outputs": [
    {
     "data": {
      "text/html": [
       "<div>\n",
       "<style scoped>\n",
       "    .dataframe tbody tr th:only-of-type {\n",
       "        vertical-align: middle;\n",
       "    }\n",
       "\n",
       "    .dataframe tbody tr th {\n",
       "        vertical-align: top;\n",
       "    }\n",
       "\n",
       "    .dataframe thead th {\n",
       "        text-align: right;\n",
       "    }\n",
       "</style>\n",
       "<table border=\"1\" class=\"dataframe\">\n",
       "  <thead>\n",
       "    <tr style=\"text-align: right;\">\n",
       "      <th></th>\n",
       "      <th>Open</th>\n",
       "      <th>Close</th>\n",
       "    </tr>\n",
       "  </thead>\n",
       "  <tbody>\n",
       "    <tr>\n",
       "      <th>4073</th>\n",
       "      <td>279.700012</td>\n",
       "      <td>279.500000</td>\n",
       "    </tr>\n",
       "    <tr>\n",
       "      <th>1844</th>\n",
       "      <td>63.683334</td>\n",
       "      <td>65.099998</td>\n",
       "    </tr>\n",
       "    <tr>\n",
       "      <th>740</th>\n",
       "      <td>19.775555</td>\n",
       "      <td>20.004444</td>\n",
       "    </tr>\n",
       "    <tr>\n",
       "      <th>3234</th>\n",
       "      <td>217.933334</td>\n",
       "      <td>215.666672</td>\n",
       "    </tr>\n",
       "    <tr>\n",
       "      <th>4976</th>\n",
       "      <td>215.250000</td>\n",
       "      <td>213.550003</td>\n",
       "    </tr>\n",
       "  </tbody>\n",
       "</table>\n",
       "</div>"
      ],
      "text/plain": [
       "            Open       Close\n",
       "4073  279.700012  279.500000\n",
       "1844   63.683334   65.099998\n",
       "740    19.775555   20.004444\n",
       "3234  217.933334  215.666672\n",
       "4976  215.250000  213.550003"
      ]
     },
     "execution_count": 23,
     "metadata": {},
     "output_type": "execute_result"
    }
   ],
   "source": [
    "stock_testing.head()"
   ]
  },
  {
   "cell_type": "code",
   "execution_count": 24,
   "id": "02331c74",
   "metadata": {},
   "outputs": [],
   "source": [
    "past100days = stock_training.tail(100)"
   ]
  },
  {
   "cell_type": "code",
   "execution_count": 25,
   "id": "53e5f4c0",
   "metadata": {},
   "outputs": [],
   "source": [
    "final_df = past100days.append(stock_testing , ignore_index =True)"
   ]
  },
  {
   "cell_type": "code",
   "execution_count": 26,
   "id": "17be168c",
   "metadata": {},
   "outputs": [],
   "source": [
    "input_data = scaler.fit_transform(final_df)"
   ]
  },
  {
   "cell_type": "code",
   "execution_count": 27,
   "id": "8ddad409",
   "metadata": {},
   "outputs": [
    {
     "data": {
      "text/plain": [
       "(1175, 2)"
      ]
     },
     "execution_count": 27,
     "metadata": {},
     "output_type": "execute_result"
    }
   ],
   "source": [
    "input_data.shape"
   ]
  },
  {
   "cell_type": "code",
   "execution_count": 28,
   "id": "00f382c1",
   "metadata": {},
   "outputs": [],
   "source": [
    "x_test = []\n",
    "y_test = []\n",
    "\n",
    "for i in range(100,input_data.shape[0]):\n",
    "    x_test.append(input_data[i-100:i])\n",
    "    y_test.append(input_data[i,0])\n"
   ]
  },
  {
   "cell_type": "code",
   "execution_count": 29,
   "id": "8c4a4f4c",
   "metadata": {},
   "outputs": [],
   "source": [
    "x_test , y_test = np.array(x_test), np.array(y_test)"
   ]
  },
  {
   "cell_type": "code",
   "execution_count": 30,
   "id": "33a492a5",
   "metadata": {},
   "outputs": [
    {
     "data": {
      "text/plain": [
       "(1075, 100, 2)"
      ]
     },
     "execution_count": 30,
     "metadata": {},
     "output_type": "execute_result"
    }
   ],
   "source": [
    "x_test.shape"
   ]
  },
  {
   "cell_type": "code",
   "execution_count": 37,
   "id": "4241eebe",
   "metadata": {},
   "outputs": [
    {
     "ename": "AttributeError",
     "evalue": "'numpy.ndarray' object has no attribute 'head'",
     "output_type": "error",
     "traceback": [
      "\u001b[1;31m---------------------------------------------------------------------------\u001b[0m",
      "\u001b[1;31mAttributeError\u001b[0m                            Traceback (most recent call last)",
      "\u001b[1;32m<ipython-input-37-5395e116cc5d>\u001b[0m in \u001b[0;36m<module>\u001b[1;34m\u001b[0m\n\u001b[1;32m----> 1\u001b[1;33m \u001b[0mx_test\u001b[0m\u001b[1;33m.\u001b[0m\u001b[0mhead\u001b[0m\u001b[1;33m\u001b[0m\u001b[1;33m\u001b[0m\u001b[0m\n\u001b[0m",
      "\u001b[1;31mAttributeError\u001b[0m: 'numpy.ndarray' object has no attribute 'head'"
     ]
    }
   ],
   "source": [
    "x_test.head"
   ]
  },
  {
   "cell_type": "code",
   "execution_count": 31,
   "id": "966fa87b",
   "metadata": {},
   "outputs": [
    {
     "data": {
      "text/plain": [
       "(1075,)"
      ]
     },
     "execution_count": 31,
     "metadata": {},
     "output_type": "execute_result"
    }
   ],
   "source": [
    "y_test.shape"
   ]
  },
  {
   "cell_type": "code",
   "execution_count": 32,
   "id": "abbc8474",
   "metadata": {},
   "outputs": [
    {
     "name": "stdout",
     "output_type": "stream",
     "text": [
      "34/34 [==============================] - 47s 1s/step\n"
     ]
    }
   ],
   "source": [
    "y_predicted = model.predict(x_test)"
   ]
  },
  {
   "cell_type": "code",
   "execution_count": 33,
   "id": "051c1732",
   "metadata": {},
   "outputs": [
    {
     "data": {
      "text/plain": [
       "(1075, 1)"
      ]
     },
     "execution_count": 33,
     "metadata": {},
     "output_type": "execute_result"
    }
   ],
   "source": [
    "y_predicted.shape"
   ]
  },
  {
   "cell_type": "code",
   "execution_count": 34,
   "id": "a28eca06",
   "metadata": {},
   "outputs": [
    {
     "data": {
      "text/plain": [
       "array([0.00310666, 0.00316613])"
      ]
     },
     "execution_count": 34,
     "metadata": {},
     "output_type": "execute_result"
    }
   ],
   "source": [
    "scaler.scale_"
   ]
  },
  {
   "cell_type": "code",
   "execution_count": 35,
   "id": "2cf8b214",
   "metadata": {},
   "outputs": [],
   "source": [
    "scale_factor = 1/0.00571592\n",
    "y_predicted = y_predicted * scale_factor\n",
    "y_test = y_test * scale_factor"
   ]
  },
  {
   "cell_type": "code",
   "execution_count": 36,
   "id": "1bcb4ff2",
   "metadata": {
    "scrolled": true
   },
   "outputs": [
    {
     "data": {
      "image/png": "[encoded data removed]",
      "text/plain": [
       "<Figure size 720x360 with 1 Axes>"
      ]
     },
     "metadata": {
      "needs_background": "light"
     },
     "output_type": "display_data"
    }
   ],
   "source": [
    "plt.figure(figsize = (10,5))\n",
    "plt.plot(y_test,'r', label = 'Original Price')\n",
    "plt.plot(y_predicted,'y',label = 'Predicted Price')\n",
    "plt.xlabel(\"Time\")\n",
    "plt.ylabel(\"Price\")\n",
    "plt.legend()\n",
    "plt.show()"
   ]
  },
  {
   "cell_type": "code",
   "execution_count": null,
   "id": "b6cd192d",
   "metadata": {},
   "outputs": [],
   "source": []
  },
  {
   "cell_type": "code",
   "execution_count": null,
   "id": "c65a1a09",
   "metadata": {},
   "outputs": [],
   "source": []
  },
  {
   "cell_type": "code",
   "execution_count": null,
   "id": "559e5077",
   "metadata": {},
   "outputs": [],
   "source": []
  }
 ],
 "metadata": {
  "kernelspec": {
   "display_name": "Python 3",
   "language": "python",
   "name": "python3"
  },
  "language_info": {
   "codemirror_mode": {
    "name": "ipython",
    "version": 3
   },
   "file_extension": ".py",
   "mimetype": "text/x-python",
   "name": "python",
   "nbconvert_exporter": "python",
   "pygments_lexer": "ipython3",
   "version": "3.8.8"
  }
 },
 "nbformat": 4,
 "nbformat_minor": 5
}
